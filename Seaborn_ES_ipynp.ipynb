{
  "nbformat": 4,
  "nbformat_minor": 0,
  "metadata": {
    "colab": {
      "provenance": [],
      "authorship_tag": "ABX9TyPnqL3gOVSsr4XtO3T//uTJ",
      "include_colab_link": true
    },
    "kernelspec": {
      "name": "python3",
      "display_name": "Python 3"
    },
    "language_info": {
      "name": "python"
    }
  },
  "cells": [
    {
      "cell_type": "markdown",
      "metadata": {
        "id": "view-in-github",
        "colab_type": "text"
      },
      "source": [
        "<a href=\"https://colab.research.google.com/github/Cervantes21/Matplotlib-and-Seaborn/blob/main/Seaborn_ES_ipynp.ipynb\" target=\"_parent\"><img src=\"https://colab.research.google.com/assets/colab-badge.svg\" alt=\"Open In Colab\"/></a>"
      ]
    },
    {
      "cell_type": "markdown",
      "source": [
        "# Seaborn:\n",
        "* Escrita por [Michael Waskom](https://twitter.com/michaelwaskom?lang=es).\n",
        "* Esta construida sobre **_Matplotlib_** por lo que hereda todas las bondades de la misma.\n",
        "* Integrada para estructuras de **_Pandas_** por lo que esta optimizada para funcionar con _dataFrames_.\n",
        "## Ventajas\n",
        "* Velocidad.\n",
        "* Poco codigo.\n",
        "* Altamente personalizable a nivel de graficas y visualizaciones.\n",
        "## Estructura basica:\n",
        "\n",
        "```python\n",
        "sns.'Tipo de Grafica'(\n",
        "\t\t data='Dataset',\n",
        "\t\t x='Data en el eje x',\n",
        "\t\t y='Data en el eje y',\n",
        "\t\t hue='Variable de agrupamiento')\n",
        "```\n",
        "\n",
        "\n",
        "\n"
      ],
      "metadata": {
        "id": "KnTT6m2pgYS2"
      }
    },
    {
      "cell_type": "markdown",
      "source": [
        "## Tipos de Gráficas que tiene Seaborn:\n",
        "* Diagramas o gráficas relacionables\n",
        "* Distribución de datos\n",
        "* Graficar variables categóricas\n",
        "### Por ejemplo:\n",
        "* Relplot (relacional): scatterplot, lineplot.\n",
        "* Displot (distribuciones): histplot, kdeplot, ecdfplot, rugplot.\n",
        "* Catplot (categorica): stripplot, swamplot, boxplot, violinplot, * pointplot, barplot."
      ],
      "metadata": {
        "id": "v1BuabOuhzw2"
      }
    },
    {
      "cell_type": "code",
      "source": [
        "import seaborn as sns\n",
        "import matplotlib.pyplot as plt\n",
        "# Comenzamos importando las librerías"
      ],
      "metadata": {
        "id": "Fsgqpu8RjH84"
      },
      "execution_count": 2,
      "outputs": []
    },
    {
      "cell_type": "markdown",
      "source": [
        "# Cómo usar \"sns.set()\":\n",
        "* Debemos saber que Set es un método de Seaborn que permite configurar el estilo, fuente y color de las gráficas \n",
        "### comenzamos importando las librerías, después añadimos una gráfica, ejemplo en código:"
      ],
      "metadata": {
        "id": "SImqsmaGpetw"
      }
    },
    {
      "cell_type": "code",
      "source": [
        "sns.barplot(x=['A','B','C'],y=[1,3,2])\n",
        "# Aquí vamos a generar una gráfica haciendo uso de\n",
        "# \"sns.barplot(x=[c],y=[C])\"\n",
        "plt.show()\n",
        "# llamamos a la visualización de la gráfica.\n",
        "'''\n",
        "Debemos recordar que debemos marcar los párametros dentro\n",
        "de la clase seaborn. Además otro punto de vista, seaborn\n",
        "contine una visualización más atractiva que pyplot.\n",
        "'''"
      ],
      "metadata": {
        "colab": {
          "base_uri": "https://localhost:8080/",
          "height": 304
        },
        "id": "dds1Xw21jfQf",
        "outputId": "e43ff3ec-d9de-45f9-b086-0582f361e042"
      },
      "execution_count": 7,
      "outputs": [
        {
          "output_type": "display_data",
          "data": {
            "text/plain": [
              "<Figure size 432x288 with 1 Axes>"
            ],
            "image/png": "[encoded data removed]"
          },
          "metadata": {
            "needs_background": "light"
          }
        },
        {
          "output_type": "execute_result",
          "data": {
            "text/plain": [
              "'\\nDebemos recordar que debemos marcar los párametros dentro\\nde la clase seaborn. Además otro punto de vista, seaborn\\ncontine una visualización más atractiva que pyplot.\\n'"
            ],
            "application/vnd.google.colaboratory.intrinsic+json": {
              "type": "string"
            }
          },
          "metadata": {},
          "execution_count": 7
        }
      ]
    },
    {
      "cell_type": "markdown",
      "source": [
        "## ¿Qué necesitas saber al usar Set?\n",
        "* Este parámetro afecta a todas las gráficas que creamos, incluidas las que no usan Seaborn.\n",
        "* Podemos resetear los valores utilizando el método reset_orig.\n",
        "* Este parámetro es un atajo de set_theme, que es el recomendado según la documentación\n"
      ],
      "metadata": {
        "id": "IefMXicInrHk"
      }
    },
    {
      "cell_type": "code",
      "source": [
        "# Llamar a nuestra función sns.set sin argumentos activará el tema \"predeterminado\" de seaborn:\n",
        "sns.set_theme()\n",
        "sns.barplot(x=[\"A\", \"B\", \"C\"], y=[1, 3, 2])\n",
        "'''\n",
        "Algo también por mencionar que dicho efecto se realiza a todas las gráficas, incluidas las de no se hayan hecho con Seaborn.\n",
        "'''"
      ],
      "metadata": {
        "colab": {
          "base_uri": "https://localhost:8080/",
          "height": 289
        },
        "id": "XZoF2-bSKzQt",
        "outputId": "09e6297f-57f9-4853-cb3d-9158a93dd6e9"
      },
      "execution_count": 14,
      "outputs": [
        {
          "output_type": "execute_result",
          "data": {
            "text/plain": [
              "'\\nAlgo también por mencionar que dicho efecto se realiza a todas las gráficas, incluidas las de no se hayan hecho con Seaborn.\\n'"
            ],
            "application/vnd.google.colaboratory.intrinsic+json": {
              "type": "string"
            }
          },
          "metadata": {},
          "execution_count": 14
        },
        {
          "output_type": "display_data",
          "data": {
            "text/plain": [
              "<Figure size 432x288 with 1 Axes>"
            ],
            "image/png": "[encoded data removed]"
          },
          "metadata": {}
        }
      ]
    },
    {
      "cell_type": "markdown",
      "source": [
        "## Configurar fuentes y estilos.\n",
        "una manera de poder sacar el mayor provecho con Seaborn es que nos permite configurar el estilo, la paleta de colores, la fuente y el tamaño de la fuente de la gráfica.\n",
        "### Ejemplo de síntaxis.\n",
        "\n",
        "```python\n",
        "seaborn.set_theme(context='notebook', style='darkgrid', palette='deep', font='sans-serif', font_scale=1, color_codes=True, rc=None)\n",
        "```\n",
        "Establece aspectos del tema visual para todas las tramas matplotlib y seaborn.\n",
        "\n",
        "Esta función cambia los valores predeterminados globales para todos los gráficos que utilizan el sistema matplotlib rcParams. La tematización se descompone en varios conjuntos distintos de valores de parámetros.\n",
        "\n",
        "Las opciones se ilustran en los tutoriales de [estética](https://seaborn.pydata.org/tutorial/aesthetics.html) y [paleta de colores](https://seaborn.pydata.org/tutorial/color_palettes.html) en donde podemos encontrar más información acerca de la síntaxis y la variedad que contienen.\n",
        "# Parámetros:\n",
        "### Context (Contexto) \n",
        "* Tipo string o dict **(context='notebook')**\n",
        "> Scaling parameters (Parámetros de escala), consulte: [plotting_context()](https://seaborn.pydata.org/generated/seaborn.plotting_context.html#seaborn.plotting_context).\n",
        "\n",
        "### Style (Estilos)\n",
        "* Tipo _string_ o diccionario **(style='darkgrid')**\n",
        "> Axes style parameters (Parámetros de estilo de ejes), consulte: [axes_style()](https://seaborn.pydata.org/generated/seaborn.axes_style.html#seaborn.axes_style).\n",
        "\n",
        "### Palette (Paleta de colores)\n",
        "* Tipo _string_ o secuencia **(palette='deep')**\n",
        ">Paleta de colores consulte: [color_palette()](https://seaborn.pydata.org/generated/seaborn.color_palette.html#seaborn.color_palette).\n",
        "\n",
        "### Font (Fuente/Tipo de letra) \n",
        "* Tipo _string_ **(font='sans-serif')**\n",
        "> Font family, aquí cabe resaltar que podemos agregar casi cualquier fuente consulte: [matplotlib font manager](https://matplotlib.org/stable/api/font_manager_api.html).\n",
        "\n",
        "### Font_scale (Escalar fuente)\n",
        "* Tipo _int_ o _float_, **es opcional** **(font_scale=1)**\n",
        "> Factor de escala separado para escalar de forma independiente el tamaño de los elementos de la fuente.\n",
        "\n",
        "### Color_codes (Códigos del color)\n",
        "* Tipo _bool_ **(color_codes=True)**\n",
        "> Si  es **_True palette_** y es una ***seaborn palette**, vuelva a asignar los códigos de color abreviados (por ejemplo, \"b\", \"g\", \"r\", etc) a los colores de esta paleta.\n",
        "\n",
        "## rc (Recursos)\n",
        "* Tipo dict or None rc = None\n",
        ">No hace falta especificar los parametros en una paleta ***seaborn*** ya que estos son predeterminados en nuestras gráficas. \n",
        "\n",
        "```python\n",
        "#Ejemplo:\n",
        "sns.barplot(x=[\"A\", \"B\", \"C\"], y=[1, 3, 2])\n",
        "```\n",
        "\n",
        "\n",
        "Por otro lado si se quiere agregar un diccionario, los elementos por default serán anulados. aquí la síntaxis ejemplo.\n",
        "```python\n",
        "# Agregamos nuestro diccionario.\n",
        "custom_params = {\"axes.spines.right\": False, \"axes.spines.top\": False}\n",
        "\n",
        "sns.set_theme(style=\"ticks\", rc=custom_params)\n",
        "#Aquí \"rc\" esta recibiendo nuestros parametros establecidos.\n",
        "\n",
        "sns.barplot(x=[\"A\", \"B\", \"C\"], y=[1, 3, 2])\n",
        "# Definición de gráfica.\n",
        "```\n"
      ],
      "metadata": {
        "id": "k7BaTVgGszC8"
      }
    },
    {
      "cell_type": "code",
      "source": [
        "# El tema seaborn se descompone en varios conjuntos distintos de parámetros que puede controlar de forma independiente:\n",
        "sns.set_theme(style=\"whitegrid\", palette=\"pastel\")\n",
        "sns.barplot(x=[\"A\", \"B\", \"C\"], y=[1, 3, 2])"
      ],
      "metadata": {
        "colab": {
          "base_uri": "https://localhost:8080/",
          "height": 286
        },
        "id": "q-eL_wGPLImM",
        "outputId": "10bc7666-2f18-4cdf-fa77-97cace27a2a9"
      },
      "execution_count": 15,
      "outputs": [
        {
          "output_type": "execute_result",
          "data": {
            "text/plain": [
              "<matplotlib.axes._subplots.AxesSubplot at 0x7f2542dc0c90>"
            ]
          },
          "metadata": {},
          "execution_count": 15
        },
        {
          "output_type": "display_data",
          "data": {
            "text/plain": [
              "<Figure size 432x288 with 1 Axes>"
            ],
            "image/png": "[encoded data removed]"
          },
          "metadata": {}
        }
      ]
    },
    {
      "cell_type": "code",
      "source": [
        "sns.set(style='darkgrid')\n",
        "# Con \"sns.set()\" podemos definir nuestros estilos de gráfica\n",
        "sns.barplot(x=['A','B','C'],y=[1,3,2])\n",
        "plt.show()"
      ],
      "metadata": {
        "colab": {
          "base_uri": "https://localhost:8080/",
          "height": 268
        },
        "id": "ZhMrQTfRmh_L",
        "outputId": "3a2c0285-603a-44f3-83ed-aa9c28f9d4c0"
      },
      "execution_count": 11,
      "outputs": [
        {
          "output_type": "display_data",
          "data": {
            "text/plain": [
              "<Figure size 432x288 with 1 Axes>"
            ],
            "image/png": "[encoded data removed]"
          },
          "metadata": {}
        }
      ]
    },
    {
      "cell_type": "markdown",
      "source": [
        "# Parámetros más usados con Seaborn\n",
        "Seaborn tiene una gran variedad de gráficos, pero también tiene ciertos parámetros para cada gráfico, vamos a ver cuáles son los más comunes:\n",
        "![graficas](https://static.platzi.com/media/user_upload/0_Cfo6qfxirL4STHTY1-009be1e6-1957-46f6-9e45-80dc1d41a0d4.jpg)\n",
        "\n",
        "## Parámetros comunes:\n",
        "Cada uno de los gráficos utiliza ciertos parámetros que tu podrás gestionar. Empieza importando las librerías y el Dataset que vas a usar.\n",
        "```python\n",
        "import seaborn as sns\n",
        "import matplotlib.pyplot as plt\n",
        "\n",
        "tips = sns.load_dataset('tips') ---> Dataset de seaborn*\n",
        "tips\n",
        "```\n",
        "---\n",
        "[Dataset de seaborn*](https://colab.research.google.com/drive/1AnYDOrI_hU70ZPaiS3hZRap1J9bi0wKD?usp=sharing)\n",
        "\n",
        "Continuaré mis aportes en este notebook.\n",
        "---"
      ],
      "metadata": {
        "id": "EoHfA2pqOJqC"
      }
    }
  ]
}