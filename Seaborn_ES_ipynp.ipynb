{
  "nbformat": 4,
  "nbformat_minor": 0,
  "metadata": {
    "colab": {
      "provenance": [],
      "collapsed_sections": [],
      "authorship_tag": "ABX9TyPwSwCpOVfOKVxsZ72pNGkD",
      "include_colab_link": true
    },
    "kernelspec": {
      "name": "python3",
      "display_name": "Python 3"
    },
    "language_info": {
      "name": "python"
    }
  },
  "cells": [
    {
      "cell_type": "markdown",
      "metadata": {
        "id": "view-in-github",
        "colab_type": "text"
      },
      "source": [
        "<a href=\"https://colab.research.google.com/github/Cervantes21/Matplotlib-and-Seaborn/blob/main/Seaborn_ES_ipynp.ipynb\" target=\"_parent\"><img src=\"https://colab.research.google.com/assets/colab-badge.svg\" alt=\"Open In Colab\"/></a>"
      ]
    },
    {
      "cell_type": "markdown",
      "source": [
        "# **Seaborn**:\n",
        "* Escrita por [Michael Waskom](https://twitter.com/michaelwaskom?lang=es).\n",
        "* Esta construida sobre **_Matplotlib_** por lo que hereda todas las bondades de la misma.\n",
        "* Integrada para estructuras de **_Pandas_** por lo que esta optimizada para funcionar con _dataFrames_.\n",
        "## **Ventajas**\n",
        "* Velocidad.\n",
        "* Poco codigo.\n",
        "* Altamente personalizable a nivel de graficas y visualizaciones.\n",
        "### Estructura basica:\n",
        "\n",
        "```python\n",
        "sns.'Tipo de Grafica'(\n",
        "\t\t data='Dataset',\n",
        "\t\t x='Data en el eje x',\n",
        "\t\t y='Data en el eje y',\n",
        "\t\t hue='Variable de agrupamiento')\n",
        "```\n",
        "\n",
        "\n",
        "\n"
      ],
      "metadata": {
        "id": "KnTT6m2pgYS2"
      }
    },
    {
      "cell_type": "markdown",
      "source": [
        "# **Tipos de Gráficas que tiene Seaborn:**\n",
        "* Diagramas o gráficas relacionables\n",
        "* Distribución de datos\n",
        "* Graficar variables categóricas\n",
        "### Por ejemplo:\n",
        "* **Relplot (relacional): scatterplot, lineplot.**\n",
        "* **Displot [(distribuciones)](https://colab.research.google.com/drive/1i6xfnaZlbCwe1ednH8w2pDV2COJBg8Ck#scrollTo=5dNxk0rdGwKL&line=13&uniqifier=1): histplot, kdeplot, ecdfplot, rugplot.**\n",
        "* **Catplot (categorica): stripplot, swamplot, boxplot, violinplot, pointplot, barplot.**\n"
      ],
      "metadata": {
        "id": "v1BuabOuhzw2"
      }
    },
    {
      "cell_type": "code",
      "source": [
        "import seaborn as sns\n",
        "import matplotlib.pyplot as plt\n",
        "# Comenzamos importando las librerías"
      ],
      "metadata": {
        "id": "Fsgqpu8RjH84"
      },
      "execution_count": null,
      "outputs": []
    },
    {
      "cell_type": "markdown",
      "source": [
        "# Cómo usar \"sns.set()\":\n",
        "* Debemos saber que Set es un método de Seaborn que permite configurar el estilo, fuente y color de las gráficas \n",
        "### comenzamos importando las librerías, después añadimos una gráfica, ejemplo en código:"
      ],
      "metadata": {
        "id": "SImqsmaGpetw"
      }
    },
    {
      "cell_type": "code",
      "source": [
        "sns.barplot(x=['A','B','C'],y=[1,3,2])\n",
        "# Aquí vamos a generar una gráfica haciendo uso de\n",
        "# \"sns.barplot(x=[c],y=[C])\"\n",
        "plt.show()\n",
        "# llamamos a la visualización de la gráfica.\n",
        "'''\n",
        "Debemos recordar que debemos marcar los párametros dentro\n",
        "de la clase seaborn. Además otro punto de vista, seaborn\n",
        "contine una visualización más atractiva que pyplot.\n",
        "'''"
      ],
      "metadata": {
        "colab": {
          "base_uri": "https://localhost:8080/",
          "height": 304
        },
        "id": "dds1Xw21jfQf",
        "outputId": "e43ff3ec-d9de-45f9-b086-0582f361e042"
      },
      "execution_count": null,
      "outputs": [
        {
          "output_type": "display_data",
          "data": {
            "text/plain": [
              "<Figure size 432x288 with 1 Axes>"
            ],
            "image/png": "[encoded data removed]"
          },
          "metadata": {
            "needs_background": "light"
          }
        },
        {
          "output_type": "execute_result",
          "data": {
            "text/plain": [
              "'\\nDebemos recordar que debemos marcar los párametros dentro\\nde la clase seaborn. Además otro punto de vista, seaborn\\ncontine una visualización más atractiva que pyplot.\\n'"
            ],
            "application/vnd.google.colaboratory.intrinsic+json": {
              "type": "string"
            }
          },
          "metadata": {},
          "execution_count": 7
        }
      ]
    },
    {
      "cell_type": "markdown",
      "source": [
        "## ¿Qué necesitas saber al usar Set?\n",
        "* Este parámetro afecta a todas las gráficas que creamos, incluidas las que no usan Seaborn.\n",
        "* Podemos resetear los valores utilizando el método reset_orig.\n",
        "* Este parámetro es un atajo de set_theme, que es el recomendado según la documentación\n"
      ],
      "metadata": {
        "id": "IefMXicInrHk"
      }
    },
    {
      "cell_type": "code",
      "source": [
        "# Llamar a nuestra función sns.set sin argumentos activará el tema \"predeterminado\" de seaborn:\n",
        "sns.set_theme()\n",
        "sns.barplot(x=[\"A\", \"B\", \"C\"], y=[1, 3, 2])\n",
        "'''\n",
        "Algo también por mencionar que dicho efecto se realiza a todas las gráficas, incluidas las de no se hayan hecho con Seaborn.\n",
        "'''"
      ],
      "metadata": {
        "colab": {
          "base_uri": "https://localhost:8080/",
          "height": 289
        },
        "id": "XZoF2-bSKzQt",
        "outputId": "09e6297f-57f9-4853-cb3d-9158a93dd6e9"
      },
      "execution_count": null,
      "outputs": [
        {
          "output_type": "execute_result",
          "data": {
            "text/plain": [
              "'\\nAlgo también por mencionar que dicho efecto se realiza a todas las gráficas, incluidas las de no se hayan hecho con Seaborn.\\n'"
            ],
            "application/vnd.google.colaboratory.intrinsic+json": {
              "type": "string"
            }
          },
          "metadata": {},
          "execution_count": 14
        },
        {
          "output_type": "display_data",
          "data": {
            "text/plain": [
              "<Figure size 432x288 with 1 Axes>"
            ],
            "image/png": "[encoded data removed]"
          },
          "metadata": {}
        }
      ]
    },
    {
      "cell_type": "markdown",
      "source": [
        "# **Configurar fuentes y estilos**.\n",
        "una manera de poder sacar el mayor provecho con Seaborn es que nos permite configurar el estilo, la paleta de colores, la fuente y el tamaño de la fuente de la gráfica.\n",
        "### Ejemplo de síntaxis.\n",
        "\n",
        "```python\n",
        "seaborn.set_theme(context='notebook', style='darkgrid', palette='deep', font='sans-serif', font_scale=1, color_codes=True, rc=None)\n",
        "```\n",
        "Establece aspectos del tema visual para todas las tramas matplotlib y seaborn.\n",
        "\n",
        "Esta función cambia los valores predeterminados globales para todos los gráficos que utilizan el sistema matplotlib rcParams. La tematización se descompone en varios conjuntos distintos de valores de parámetros.\n",
        "\n",
        "Las opciones se ilustran en los tutoriales de [estética](https://seaborn.pydata.org/tutorial/aesthetics.html) y [paleta de colores](https://seaborn.pydata.org/tutorial/color_palettes.html) en donde podemos encontrar más información acerca de la síntaxis y la variedad que contienen.\n",
        "# Conceptos de los parámetros de **.set** :\n",
        "<details>\n",
        "\n",
        "### Context (Contexto) \n",
        "* Tipo string o dict **(context='notebook')**\n",
        "> Scaling parameters (Parámetros de escala), consulte: [plotting_context()](https://seaborn.pydata.org/generated/seaborn.plotting_context.html#seaborn.plotting_context).\n",
        "\n",
        "### Style (Estilos)\n",
        "* Tipo _string_ o diccionario **(style='darkgrid')**\n",
        "> Axes style parameters (Parámetros de estilo de ejes), consulte: [axes_style()](https://seaborn.pydata.org/generated/seaborn.axes_style.html#seaborn.axes_style).\n",
        "\n",
        "### Palette (Paleta de colores)\n",
        "* Tipo _string_ o secuencia **(palette='deep')**\n",
        ">Paleta de colores consulte: [color_palette()](https://seaborn.pydata.org/generated/seaborn.color_palette.html#seaborn.color_palette).\n",
        "\n",
        "### Font (Fuente/Tipo de letra) \n",
        "* Tipo _string_ **(font='sans-serif')**\n",
        "> Font family, aquí cabe resaltar que podemos agregar casi cualquier fuente consulte: [matplotlib font manager](https://matplotlib.org/stable/api/font_manager_api.html).\n",
        "\n",
        "### Font_scale (Escalar fuente)\n",
        "* Tipo _int_ o _float_, **es opcional** **(font_scale=1)**\n",
        "> Factor de escala separado para escalar de forma independiente el tamaño de los elementos de la fuente.\n",
        "\n",
        "### Color_codes (Códigos del color)\n",
        "* Tipo _bool_ **(color_codes=True)**\n",
        "> Si  es **_True palette_** y es una ***seaborn palette**, vuelva a asignar los códigos de color abreviados (por ejemplo, \"b\", \"g\", \"r\", etc) a los colores de esta paleta.\n",
        "\n",
        "## rc (Recursos)\n",
        "* Tipo dict or None rc = None\n",
        ">No hace falta especificar los parametros en una paleta ***seaborn*** ya que estos son predeterminados en nuestras gráficas. \n",
        "\n",
        "```python\n",
        "#Ejemplo:\n",
        "sns.barplot(x=[\"A\", \"B\", \"C\"], y=[1, 3, 2])\n",
        "```\n",
        "\n",
        "Por otro lado si se quiere agregar un diccionario, los elementos por default serán anulados. aquí la síntaxis ejemplo.\n",
        "```python\n",
        "# Agregamos nuestro diccionario.\n",
        "custom_params = {\"axes.spines.right\": False, \"axes.spines.top\": False}\n",
        "\n",
        "sns.set_theme(style=\"ticks\", rc=custom_params)\n",
        "#Aquí \"rc\" esta recibiendo nuestros parametros establecidos.\n",
        "\n",
        "sns.barplot(x=[\"A\", \"B\", \"C\"], y=[1, 3, 2])\n",
        "# Definición de gráfica.\n",
        "```\n",
        "</details>"
      ],
      "metadata": {
        "id": "k7BaTVgGszC8"
      }
    },
    {
      "cell_type": "markdown",
      "source": [
        "# **Ejemplos en código con .set :**"
      ],
      "metadata": {
        "id": "U6e0g90Lp-n5"
      }
    },
    {
      "cell_type": "code",
      "source": [
        "# El tema seaborn se descompone en varios conjuntos distintos de parámetros que puede controlar de forma independiente:\n",
        "sns.set_theme(style=\"whitegrid\", palette=\"pastel\")\n",
        "sns.barplot(x=[\"A\", \"B\", \"C\"], y=[1, 3, 2])"
      ],
      "metadata": {
        "colab": {
          "base_uri": "https://localhost:8080/",
          "height": 286
        },
        "id": "q-eL_wGPLImM",
        "outputId": "10bc7666-2f18-4cdf-fa77-97cace27a2a9"
      },
      "execution_count": null,
      "outputs": [
        {
          "output_type": "execute_result",
          "data": {
            "text/plain": [
              "<matplotlib.axes._subplots.AxesSubplot at 0x7f2542dc0c90>"
            ]
          },
          "metadata": {},
          "execution_count": 15
        },
        {
          "output_type": "display_data",
          "data": {
            "text/plain": [
              "<Figure size 432x288 with 1 Axes>"
            ],
            "image/png": "[encoded data removed]"
          },
          "metadata": {}
        }
      ]
    },
    {
      "cell_type": "code",
      "source": [
        "sns.set(style='darkgrid')\n",
        "# Con \"sns.set()\" podemos definir nuestros estilos de gráfica\n",
        "sns.barplot(x=['A','B','C'],y=[1,3,2])\n",
        "plt.show()"
      ],
      "metadata": {
        "colab": {
          "base_uri": "https://localhost:8080/",
          "height": 268
        },
        "id": "ZhMrQTfRmh_L",
        "outputId": "3a2c0285-603a-44f3-83ed-aa9c28f9d4c0"
      },
      "execution_count": null,
      "outputs": [
        {
          "output_type": "display_data",
          "data": {
            "text/plain": [
              "<Figure size 432x288 with 1 Axes>"
            ],
            "image/png": "[encoded data removed]"
          },
          "metadata": {}
        }
      ]
    },
    {
      "cell_type": "markdown",
      "source": [
        "# **Parámetros más usados con Seaborn**\n",
        "Seaborn tiene una gran variedad de gráficos, pero también tiene ciertos parámetros para cada gráfico, vamos a ver cuáles son los más comunes:\n",
        "![graficas](https://static.platzi.com/media/user_upload/0_Cfo6qfxirL4STHTY1-009be1e6-1957-46f6-9e45-80dc1d41a0d4.jpg)\n",
        "\n",
        "---\n",
        "---\n",
        "# Cargar data\n",
        ">Quiero resaltar que Seaborn nos permite acceder a \"Data Sets\" ya predefinidos para nosotros poder prácticar. \n",
        "además podemos usar [get_dataset_names()](https://seaborn.pydata.org/generated/seaborn.get_dataset_names.html#seaborn.get_dataset_names) para ver una lista de conjuntos de datos disponibles.\n",
        "\n",
        "```python\n",
        "# Síntaxis:\n",
        "seaborn.load_dataset(name, cache=True, data_home=None, **kws)\n",
        "\n",
        "```\n",
        " \n",
        "## Conceptos de Parámetros para cargar Datasets:\n",
        "\n",
        "<details>\n",
        "\n",
        "### Name (Nombre)\n",
        "* Tipo _str_ Tan fácil cómo **(sns.load_dataset('tips'))**\n",
        ">Nombre del dataset ({name}.csv on https://github.com/mwaskom/seaborn-data).\n",
        "\n",
        "### Cache\n",
        "* Tipo _booleano_, es opcional **(cache=True)**\n",
        "> Si el valor es _True_, intenta primero cargar el caché local, y guárdalo en el caché si se requiere descargar.\n",
        "\n",
        "### data_home\n",
        "* Tipo _string_, es opcional **(data_home=None)**\n",
        "> El directorio en el que almacenará en caché los datos; ver [get_data_home()](https://seaborn.pydata.org/generated/seaborn.get_data_home.html#seaborn.get_data_home)\n",
        "\n",
        "### KWS (claves(keys) y valores(values))\n",
        "* Es opcional **(pandas.read_csv())**\n",
        "> Los argumentos de palabras clave adicionales se pasan a [pandas.read_csv().](https://pandas.pydata.org/pandas-docs/stable/reference/api/pandas.read_csv.html#pandas.read_csv)\n",
        "\n",
        "## Returns:\n",
        "### df (Data frame)\n",
        "\n",
        "* [pandas.DataFrame](https://pandas.pydata.org/pandas-docs/stable/reference/api/pandas.DataFrame.html#pandas.DataFrame)\n",
        "\n",
        "> Datos tabulares, posiblemente con algún procesamiento previo aplicado.\n",
        "</details>\n",
        "\n",
        "---\n",
        "---\n",
        "\n",
        "## Parámetros comunes:\n",
        "Cada uno de los gráficos utiliza ciertos parámetros que tu podrás gestionar. Empieza importando las librerías y el Dataset que vas a usar.\n",
        "```python\n",
        "#Ejemplo:\n",
        "import seaborn as sns\n",
        "import matplotlib.pyplot as plt\n",
        "\n",
        "tips = sns.load_dataset('tips') ---> Dataset de seaborn*\n",
        "tips\n",
        "```\n",
        "# Veamos en código:"
      ],
      "metadata": {
        "id": "EoHfA2pqOJqC"
      }
    },
    {
      "cell_type": "code",
      "source": [
        "import seaborn as sns\n",
        "import matplotlib.pyplot as plt\n",
        "\n",
        "tips = sns.load_dataset('tips')\n",
        "# Con el comando \"sns.load_dataset\" podemos agregar los datos predefinidos.\n",
        "# print(tips)\n",
        "tips\n",
        "# llamamos a la variable"
      ],
      "metadata": {
        "colab": {
          "base_uri": "https://localhost:8080/",
          "height": 424
        },
        "id": "9J9TGJWktb6j",
        "outputId": "3bf80765-489f-4b06-ea7e-5cdcd915917f"
      },
      "execution_count": null,
      "outputs": [
        {
          "output_type": "execute_result",
          "data": {
            "text/plain": [
              "     total_bill   tip     sex smoker   day    time  size\n",
              "0         16.99  1.01  Female     No   Sun  Dinner     2\n",
              "1         10.34  1.66    Male     No   Sun  Dinner     3\n",
              "2         21.01  3.50    Male     No   Sun  Dinner     3\n",
              "3         23.68  3.31    Male     No   Sun  Dinner     2\n",
              "4         24.59  3.61  Female     No   Sun  Dinner     4\n",
              "..          ...   ...     ...    ...   ...     ...   ...\n",
              "239       29.03  5.92    Male     No   Sat  Dinner     3\n",
              "240       27.18  2.00  Female    Yes   Sat  Dinner     2\n",
              "241       22.67  2.00    Male    Yes   Sat  Dinner     2\n",
              "242       17.82  1.75    Male     No   Sat  Dinner     2\n",
              "243       18.78  3.00  Female     No  Thur  Dinner     2\n",
              "\n",
              "[244 rows x 7 columns]"
            ],
            "text/html": [
              "\n",
              "  <div id=\"df-4a56f5fd-d7b4-4c31-a181-e570734bfc90\">\n",
              "    <div class=\"colab-df-container\">\n",
              "      <div>\n",
              "<style scoped>\n",
              "    .dataframe tbody tr th:only-of-type {\n",
              "        vertical-align: middle;\n",
              "    }\n",
              "\n",
              "    .dataframe tbody tr th {\n",
              "        vertical-align: top;\n",
              "    }\n",
              "\n",
              "    .dataframe thead th {\n",
              "        text-align: right;\n",
              "    }\n",
              "</style>\n",
              "<table border=\"1\" class=\"dataframe\">\n",
              "  <thead>\n",
              "    <tr style=\"text-align: right;\">\n",
              "      <th></th>\n",
              "      <th>total_bill</th>\n",
              "      <th>tip</th>\n",
              "      <th>sex</th>\n",
              "      <th>smoker</th>\n",
              "      <th>day</th>\n",
              "      <th>time</th>\n",
              "      <th>size</th>\n",
              "    </tr>\n",
              "  </thead>\n",
              "  <tbody>\n",
              "    <tr>\n",
              "      <th>0</th>\n",
              "      <td>16.99</td>\n",
              "      <td>1.01</td>\n",
              "      <td>Female</td>\n",
              "      <td>No</td>\n",
              "      <td>Sun</td>\n",
              "      <td>Dinner</td>\n",
              "      <td>2</td>\n",
              "    </tr>\n",
              "    <tr>\n",
              "      <th>1</th>\n",
              "      <td>10.34</td>\n",
              "      <td>1.66</td>\n",
              "      <td>Male</td>\n",
              "      <td>No</td>\n",
              "      <td>Sun</td>\n",
              "      <td>Dinner</td>\n",
              "      <td>3</td>\n",
              "    </tr>\n",
              "    <tr>\n",
              "      <th>2</th>\n",
              "      <td>21.01</td>\n",
              "      <td>3.50</td>\n",
              "      <td>Male</td>\n",
              "      <td>No</td>\n",
              "      <td>Sun</td>\n",
              "      <td>Dinner</td>\n",
              "      <td>3</td>\n",
              "    </tr>\n",
              "    <tr>\n",
              "      <th>3</th>\n",
              "      <td>23.68</td>\n",
              "      <td>3.31</td>\n",
              "      <td>Male</td>\n",
              "      <td>No</td>\n",
              "      <td>Sun</td>\n",
              "      <td>Dinner</td>\n",
              "      <td>2</td>\n",
              "    </tr>\n",
              "    <tr>\n",
              "      <th>4</th>\n",
              "      <td>24.59</td>\n",
              "      <td>3.61</td>\n",
              "      <td>Female</td>\n",
              "      <td>No</td>\n",
              "      <td>Sun</td>\n",
              "      <td>Dinner</td>\n",
              "      <td>4</td>\n",
              "    </tr>\n",
              "    <tr>\n",
              "      <th>...</th>\n",
              "      <td>...</td>\n",
              "      <td>...</td>\n",
              "      <td>...</td>\n",
              "      <td>...</td>\n",
              "      <td>...</td>\n",
              "      <td>...</td>\n",
              "      <td>...</td>\n",
              "    </tr>\n",
              "    <tr>\n",
              "      <th>239</th>\n",
              "      <td>29.03</td>\n",
              "      <td>5.92</td>\n",
              "      <td>Male</td>\n",
              "      <td>No</td>\n",
              "      <td>Sat</td>\n",
              "      <td>Dinner</td>\n",
              "      <td>3</td>\n",
              "    </tr>\n",
              "    <tr>\n",
              "      <th>240</th>\n",
              "      <td>27.18</td>\n",
              "      <td>2.00</td>\n",
              "      <td>Female</td>\n",
              "      <td>Yes</td>\n",
              "      <td>Sat</td>\n",
              "      <td>Dinner</td>\n",
              "      <td>2</td>\n",
              "    </tr>\n",
              "    <tr>\n",
              "      <th>241</th>\n",
              "      <td>22.67</td>\n",
              "      <td>2.00</td>\n",
              "      <td>Male</td>\n",
              "      <td>Yes</td>\n",
              "      <td>Sat</td>\n",
              "      <td>Dinner</td>\n",
              "      <td>2</td>\n",
              "    </tr>\n",
              "    <tr>\n",
              "      <th>242</th>\n",
              "      <td>17.82</td>\n",
              "      <td>1.75</td>\n",
              "      <td>Male</td>\n",
              "      <td>No</td>\n",
              "      <td>Sat</td>\n",
              "      <td>Dinner</td>\n",
              "      <td>2</td>\n",
              "    </tr>\n",
              "    <tr>\n",
              "      <th>243</th>\n",
              "      <td>18.78</td>\n",
              "      <td>3.00</td>\n",
              "      <td>Female</td>\n",
              "      <td>No</td>\n",
              "      <td>Thur</td>\n",
              "      <td>Dinner</td>\n",
              "      <td>2</td>\n",
              "    </tr>\n",
              "  </tbody>\n",
              "</table>\n",
              "<p>244 rows × 7 columns</p>\n",
              "</div>\n",
              "      <button class=\"colab-df-convert\" onclick=\"convertToInteractive('df-4a56f5fd-d7b4-4c31-a181-e570734bfc90')\"\n",
              "              title=\"Convert this dataframe to an interactive table.\"\n",
              "              style=\"display:none;\">\n",
              "        \n",
              "  <svg xmlns=\"http://www.w3.org/2000/svg\" height=\"24px\"viewBox=\"0 0 24 24\"\n",
              "       width=\"24px\">\n",
              "    <path d=\"M0 0h24v24H0V0z\" fill=\"none\"/>\n",
              "    <path d=\"M18.56 5.44l.94 2.06.94-2.06 2.06-.94-2.06-.94-.94-2.06-.94 2.06-2.06.94zm-11 1L8.5 8.5l.94-2.06 2.06-.94-2.06-.94L8.5 2.5l-.94 2.06-2.06.94zm10 10l.94 2.06.94-2.06 2.06-.94-2.06-.94-.94-2.06-.94 2.06-2.06.94z\"/><path d=\"M17.41 7.96l-1.37-1.37c-.4-.4-.92-.59-1.43-.59-.52 0-1.04.2-1.43.59L10.3 9.45l-7.72 7.72c-.78.78-.78 2.05 0 2.83L4 21.41c.39.39.9.59 1.41.59.51 0 1.02-.2 1.41-.59l7.78-7.78 2.81-2.81c.8-.78.8-2.07 0-2.86zM5.41 20L4 18.59l7.72-7.72 1.47 1.35L5.41 20z\"/>\n",
              "  </svg>\n",
              "      </button>\n",
              "      \n",
              "  <style>\n",
              "    .colab-df-container {\n",
              "      display:flex;\n",
              "      flex-wrap:wrap;\n",
              "      gap: 12px;\n",
              "    }\n",
              "\n",
              "    .colab-df-convert {\n",
              "      background-color: #E8F0FE;\n",
              "      border: none;\n",
              "      border-radius: 50%;\n",
              "      cursor: pointer;\n",
              "      display: none;\n",
              "      fill: #1967D2;\n",
              "      height: 32px;\n",
              "      padding: 0 0 0 0;\n",
              "      width: 32px;\n",
              "    }\n",
              "\n",
              "    .colab-df-convert:hover {\n",
              "      background-color: #E2EBFA;\n",
              "      box-shadow: 0px 1px 2px rgba(60, 64, 67, 0.3), 0px 1px 3px 1px rgba(60, 64, 67, 0.15);\n",
              "      fill: #174EA6;\n",
              "    }\n",
              "\n",
              "    [theme=dark] .colab-df-convert {\n",
              "      background-color: #3B4455;\n",
              "      fill: #D2E3FC;\n",
              "    }\n",
              "\n",
              "    [theme=dark] .colab-df-convert:hover {\n",
              "      background-color: #434B5C;\n",
              "      box-shadow: 0px 1px 3px 1px rgba(0, 0, 0, 0.15);\n",
              "      filter: drop-shadow(0px 1px 2px rgba(0, 0, 0, 0.3));\n",
              "      fill: #FFFFFF;\n",
              "    }\n",
              "  </style>\n",
              "\n",
              "      <script>\n",
              "        const buttonEl =\n",
              "          document.querySelector('#df-4a56f5fd-d7b4-4c31-a181-e570734bfc90 button.colab-df-convert');\n",
              "        buttonEl.style.display =\n",
              "          google.colab.kernel.accessAllowed ? 'block' : 'none';\n",
              "\n",
              "        async function convertToInteractive(key) {\n",
              "          const element = document.querySelector('#df-4a56f5fd-d7b4-4c31-a181-e570734bfc90');\n",
              "          const dataTable =\n",
              "            await google.colab.kernel.invokeFunction('convertToInteractive',\n",
              "                                                     [key], {});\n",
              "          if (!dataTable) return;\n",
              "\n",
              "          const docLinkHtml = 'Like what you see? Visit the ' +\n",
              "            '<a target=\"_blank\" href=https://colab.research.google.com/notebooks/data_table.ipynb>data table notebook</a>'\n",
              "            + ' to learn more about interactive tables.';\n",
              "          element.innerHTML = '';\n",
              "          dataTable['output_type'] = 'display_data';\n",
              "          await google.colab.output.renderOutput(dataTable, element);\n",
              "          const docLink = document.createElement('div');\n",
              "          docLink.innerHTML = docLinkHtml;\n",
              "          element.appendChild(docLink);\n",
              "        }\n",
              "      </script>\n",
              "    </div>\n",
              "  </div>\n",
              "  "
            ]
          },
          "metadata": {},
          "execution_count": 3
        }
      ]
    },
    {
      "cell_type": "code",
      "source": [
        "sns.displot(data=tips, x='total_bill')\n",
        "# Estamos indicando nuestros párametros.\n",
        "plt.show()\n",
        "# Visualización de la gráfica"
      ],
      "metadata": {
        "colab": {
          "base_uri": "https://localhost:8080/",
          "height": 369
        },
        "id": "pKgNFzc1usDs",
        "outputId": "aa13feec-af89-4049-86d6-eb7164b09584"
      },
      "execution_count": null,
      "outputs": [
        {
          "output_type": "display_data",
          "data": {
            "text/plain": [
              "<Figure size 360x360 with 1 Axes>"
            ],
            "image/png": "[encoded data removed]"
          },
          "metadata": {
            "needs_background": "light"
          }
        }
      ]
    },
    {
      "cell_type": "code",
      "source": [
        "sns.displot(data=tips, x='total_bill', y='tip')\n",
        "plt.show()"
      ],
      "metadata": {
        "colab": {
          "base_uri": "https://localhost:8080/",
          "height": 369
        },
        "id": "JA4-am4e3m3R",
        "outputId": "3022a14d-58e6-4d7f-8aa0-e38c17ae8ed0"
      },
      "execution_count": null,
      "outputs": [
        {
          "output_type": "display_data",
          "data": {
            "text/plain": [
              "<Figure size 360x360 with 1 Axes>"
            ],
            "image/png": "[encoded data removed]"
          },
          "metadata": {
            "needs_background": "light"
          }
        }
      ]
    },
    {
      "cell_type": "markdown",
      "source": [
        "## Al agregar nuestra variable **y** nos cambia el tipo de gráfica automaticamente\n",
        "\n",
        "### Además en esté gráfico nos permite ver la relación de  dos distintos ejes. donde nos muestra la relación entre las propinas y el total de la cuenta."
      ],
      "metadata": {
        "id": "WJ3uy-q9428w"
      }
    },
    {
      "cell_type": "code",
      "source": [
        "sns.displot(data=tips, x='total_bill', y='tip', hue='sex')\n",
        "# Al agregar el valor \"hue='name'\" podemos hacer un agrupamiento\n",
        "# entre cualquier otra variable. Aquí la comparamos entre el sexo.\n",
        "plt.show()"
      ],
      "metadata": {
        "colab": {
          "base_uri": "https://localhost:8080/",
          "height": 369
        },
        "id": "8edusCAR5TSi",
        "outputId": "2ded5d36-d930-4888-e205-3967fd30ed02"
      },
      "execution_count": null,
      "outputs": [
        {
          "output_type": "display_data",
          "data": {
            "text/plain": [
              "<Figure size 432.125x360 with 1 Axes>"
            ],
            "image/png": "[encoded data removed]"
          },
          "metadata": {
            "needs_background": "light"
          }
        }
      ]
    },
    {
      "cell_type": "code",
      "source": [
        "sns.displot(data=tips, x='total_bill', hue='sex', kind='kde')\n",
        "# (kind='name') nos permite cambiar el tipo de gráfica para trabajar\n",
        "plt.show()\n",
        "# En este ejemplo usamos KDE que nos muestra la densidad"
      ],
      "metadata": {
        "colab": {
          "base_uri": "https://localhost:8080/",
          "height": 369
        },
        "id": "_k1uCFUp6v0n",
        "outputId": "81babd83-abf8-4457-a19e-a568f8f819e3"
      },
      "execution_count": null,
      "outputs": [
        {
          "output_type": "display_data",
          "data": {
            "text/plain": [
              "<Figure size 432.125x360 with 1 Axes>"
            ],
            "image/png": "[encoded data removed]"
          },
          "metadata": {
            "needs_background": "light"
          }
        }
      ]
    },
    {
      "cell_type": "markdown",
      "source": [
        "# Datos de síntaxis **English**\n",
        "<details>\n",
        "<summary><b> Datos que nos proporcionan para la síntaxis.</b></summary>\n",
        "  <p>\n",
        "(data: Any | None = None, *, x: Any | None = None, y: Any | None = None, hue: Any | None = None, row: Any | None = None, col: Any | None = None, weights: Any | None = None, kind: str = \"hist\", rug: bool = False, rug_kws: Any | None = None, log_scale: Any | None = None, legend: bool = True, palette: Any | None = None, hue_order: Any | None = None, hue_norm: Any | None = None, color: Any | None = None, col_wrap: Any | None = None, row_order: Any | None = None, col_order: Any | None = None, height: int = 5, aspect: int = 1, facet_kws: Any | None = None, **kwargs: Any) -> Any\n",
        "Figure-level interface for drawing distribution plots onto a FacetGrid.\n",
        "\n",
        "This function provides access to several approaches for visualizing the\n",
        "univariate or bivariate distribution of data, including subsets of data\n",
        "defined by semantic mapping and faceting across multiple subplots. The\n",
        "kind parameter selects the approach to use:\n",
        "\n",
        "\n",
        "histplot (with kind=\"hist\"; the default)\n",
        "\n",
        "kdeplot (with kind=\"kde\")\n",
        "\n",
        "ecdfplot (with kind=\"ecdf\"; univariate-only)\n",
        "\n",
        "\n",
        "Additionally, a rugplot can be added to any kind of plot to show\n",
        "individual observations.\n",
        "\n",
        "Extra keyword arguments are passed to the underlying function, so you should\n",
        "refer to the documentation for each to understand the complete set of options\n",
        "for making plots with this interface.\n",
        "\n",
        "See the distribution plots tutorial <../tutorial/distributions> for a more\n",
        "in-depth discussion of the relative strengths and weaknesses of each approach.\n",
        "The distinction between figure-level and axes-level functions is explained\n",
        "further in the user guide <../tutorial/function_overview>.\n",
        "\n",
        "Parameters\n",
        "\n",
        "data : pandas.DataFrame, numpy.ndarray, mapping, or sequence\n",
        "    Input data structure. Either a long-form collection of vectors that can be\n",
        "assigned to named variables or a wide-form dataset that will be internally\n",
        "reshaped.\n",
        "x, y : vectors or keys in data\n",
        "    Variables that specify positions on the x and y axes.\n",
        "hue : vector or key in data\n",
        "    Semantic variable that is mapped to determine the color of plot elements.\n",
        "row, col : vectors or keys in data\n",
        "    Variables that define subsets to plot on different facets.\n",
        "kind : {\"hist\", \"kde\", \"ecdf\"}\n",
        "    Approach for visualizing the data. Selects the underlying plotting function\n",
        "and determines the additional set of valid parameters.\n",
        "rug : bool\n",
        "    If True, show each observation with marginal ticks (as in rugplot).\n",
        "rug_kws : dict\n",
        "    Parameters to control the appearance of the rug plot.\n",
        "log_scale : bool or number, or pair of bools or numbers\n",
        "    Set axis scale(s) to log. A single value sets the data axis for univariate\n",
        "distributions and both axes for bivariate distributions. A pair of values\n",
        "sets each axis independently. Numeric values are interpreted as the desired\n",
        "base (default 10). If False, defer to the existing Axes scale.\n",
        "legend : bool\n",
        "    If False, suppress the legend for semantic variables.\n",
        "palette : string, list, dict, or matplotlib.colors.Colormap\n",
        "    Method for choosing the colors to use when mapping the hue semantic.\n",
        "String values are passed to color_palette. List or dict values\n",
        "imply categorical mapping, while a colormap object implies numeric mapping.\n",
        "hue_order : vector of strings\n",
        "    Specify the order of processing and plotting for categorical levels of the\n",
        "hue semantic.\n",
        "hue_norm : tuple or matplotlib.colors.Normalize\n",
        "    Either a pair of values that set the normalization range in data units\n",
        "or an object that will map from data units into a [0, 1] interval. Usage\n",
        "implies numeric mapping.\n",
        "color : matplotlib color <matplotlib.colors>\n",
        "    Single color specification for when hue mapping is not used. Otherwise, the\n",
        "plot will try to hook into the matplotlib property cycle.\n",
        "col_wrap : int\n",
        "    \"Wrap\" the column variable at this width, so that the column facets\n",
        "span multiple rows. Incompatible with a row facet.\n",
        "{row,col}_order : vector of strings\n",
        "    Specify the order in which levels of the row and/or col variables\n",
        "appear in the grid of subplots.\n",
        "height : scalar\n",
        "    Height (in inches) of each facet. See also: aspect.\n",
        "aspect : scalar\n",
        "    Aspect ratio of each facet, so that aspect * height gives the width\n",
        "of each facet in inches.\n",
        "facet_kws : dict\n",
        "    Additional parameters passed to FacetGrid.\n",
        "\n",
        "kwargs\n",
        "    Other keyword arguments are documented with the relevant axes-level function:\n",
        "\n",
        "\n",
        "histplot (with kind=\"hist\")\n",
        "\n",
        "kdeplot (with kind=\"kde\")\n",
        "\n",
        "ecdfplot (with kind=\"ecdf\")\n",
        "\n",
        "\n",
        "Returns\n",
        "\n",
        "FacetGrid\n",
        "    An object managing one or more subplots that correspond to conditional data\n",
        "subsets with convenient methods for batch-setting of axes attributes.\n",
        "\n",
        "See Also\n",
        "\n",
        "histplot : Plot a histogram of binned counts with optional normalization or smoothing.\n",
        "kdeplot : Plot univariate or bivariate distributions using kernel density estimation.\n",
        "rugplot : Plot a tick at each observation value along the x and/or y axes.\n",
        "ecdfplot : Plot empirical cumulative distribution functions.\n",
        "jointplot : Draw a bivariate plot with univariate marginal distributions.\n",
        "\n",
        "Examples\n",
        "\n",
        "See the API documentation for the axes-level functions for more details\n",
        "about the breadth of options available for each plot kind.\n",
        "  </p>\n",
        "</details>"
      ],
      "metadata": {
        "id": "N1lX94lG7i73"
      }
    },
    {
      "cell_type": "code",
      "source": [
        "sns.displot(data=tips, x='total_bill', hue='sex', kind='kde', legend= True, palette='dark', alpha=.25)\n",
        "# Podemos ir personalizando como vayamos requiriendo\n",
        "plt.show()"
      ],
      "metadata": {
        "colab": {
          "base_uri": "https://localhost:8080/",
          "height": 369
        },
        "id": "k6m1Npk7_I-_",
        "outputId": "8732f20d-8c44-439f-9aeb-b4daed433642"
      },
      "execution_count": null,
      "outputs": [
        {
          "output_type": "display_data",
          "data": {
            "text/plain": [
              "<Figure size 432.125x360 with 1 Axes>"
            ],
            "image/png": "[encoded data removed]"
          },
          "metadata": {
            "needs_background": "light"
          }
        }
      ]
    },
    {
      "cell_type": "markdown",
      "source": [
        "## Lo fascinante es que todo lo estamos haciendo con una sólo lína de código, además de darnos gráficas más amigables. sólo es ir jugando con los valores. [Personalización](https://colab.research.google.com/drive/1i6xfnaZlbCwe1ednH8w2pDV2COJBg8Ck#scrollTo=k7BaTVgGszC8)"
      ],
      "metadata": {
        "id": "5kWQD9jXAXRn"
      }
    },
    {
      "cell_type": "markdown",
      "source": [
        "# **Visualización de distribuciones de datos** \n",
        "\n",
        ">Seaborn ofrece algunas gráficas u opciones que te permiten trabajar con distribuciones orientadas a tipos de datos numéricos.\n",
        "\n",
        "Un primer paso en cualquier esfuerzo por **analizar o modelar datos** debe ser ***comprender cómo se distribuyen las variables***. \n",
        ">Las técnicas para la visualización de la distribución pueden proporcionar respuestas rápidas a muchas ***preguntas importantes***.\n",
        "* ¿Qué rango cubren las observaciones? \n",
        "* ¿Cuál es su tendencia central? \n",
        "* ¿Están muy sesgados en una dirección? \n",
        "* ¿Hay evidencia de bimodalidad? ¿Hay valores atípicos significativos?\n",
        "* ¿Varían las respuestas a estas preguntas entre los subconjuntos definidos por otras variables?\n",
        "\n",
        "El módulo de distribuciones contiene varias funciones diseñadas para responder preguntas como estas. \n",
        "> Las funciones a nivel de ejes son:\n",
        "* [histplot()](https://seaborn.pydata.org/generated/seaborn.histplot.html#seaborn.histplot) \n",
        "* [kdeplot()](https://seaborn.pydata.org/generated/seaborn.kdeplot.html#seaborn.kdeplot) \n",
        "* [ecdfplot()](https://seaborn.pydata.org/generated/seaborn.ecdfplot.html#seaborn.ecdfplot)\n",
        "* [rugplot()](https://seaborn.pydata.org/generated/seaborn.rugplot.html#seaborn.rugplot)\n",
        "\n",
        "> Estas se agrupan dentro de las funciones de nivel de figura en: \n",
        "* [displot()](https://seaborn.pydata.org/generated/seaborn.displot.html#seaborn.displot)\n",
        "* [jointplot()](https://seaborn.pydata.org/generated/seaborn.jointplot.html#seaborn.jointplot)\n",
        "* [pairplot().](https://seaborn.pydata.org/generated/seaborn.pairplot.html#seaborn.pairplot)\n",
        "\n",
        "Hay varios enfoques diferentes para visualizar una distribución, y cada uno tiene sus ventajas e inconvenientes relativos. Es importante comprender estos factores para que pueda elegir el mejor enfoque para su objetivo particular.\n",
        "\n",
        "---\n",
        "# Uso de **.kde** y **.displot** para gráficar distribuciones.\n",
        "Quizás el enfoque más común para visualizar una distribución es el histograma . Este es el enfoque predeterminado en [displot()](https://seaborn.pydata.org/generated/seaborn.displot.html#seaborn.displot), que usa el mismo código subyacente que [histplot()](https://seaborn.pydata.org/generated/seaborn.histplot.html#seaborn.histplot) . \n",
        "> ***Un histograma es un gráfico de barras en el que el eje que representa la variable de datos se divide en un conjunto de contenedores discretos y el recuento de observaciones que se encuentran dentro de cada contenedor se muestra usando la altura de la barra correspondiente:***"
      ],
      "metadata": {
        "id": "5dNxk0rdGwKL"
      }
    },
    {
      "cell_type": "code",
      "source": [
        "sns.histplot(data = tips, x= 'tip', bins = 15, cumulative=True)"
      ],
      "metadata": {
        "colab": {
          "base_uri": "https://localhost:8080/",
          "height": 297
        },
        "id": "t-2Yck-SG9V_",
        "outputId": "895d8cba-8af6-4e48-ee13-21e2f08f6dcc"
      },
      "execution_count": 4,
      "outputs": [
        {
          "output_type": "execute_result",
          "data": {
            "text/plain": [
              "<matplotlib.axes._subplots.AxesSubplot at 0x7f63cdd96c50>"
            ]
          },
          "metadata": {},
          "execution_count": 4
        },
        {
          "output_type": "display_data",
          "data": {
            "text/plain": [
              "<Figure size 432x288 with 1 Axes>"
            ],
            "image/png": "[encoded data removed]"
          },
          "metadata": {
            "needs_background": "light"
          }
        }
      ]
    }
  ]
}